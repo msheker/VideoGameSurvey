{
 "cells": [
  {
   "cell_type": "code",
   "execution_count": 118,
   "metadata": {
    "scrolled": true
   },
   "outputs": [],
   "source": [
    "import numpy as np\n",
    "import pandas as pd\n",
    "from scipy.stats import *\n",
    "import matplotlib\n",
    "import matplotlib.pyplot as plt\n",
    "%matplotlib inline"
   ]
  },
  {
   "cell_type": "code",
   "execution_count": 119,
   "metadata": {
    "scrolled": false
   },
   "outputs": [
    {
     "data": {
      "text/html": [
       "<div>\n",
       "<style scoped>\n",
       "    .dataframe tbody tr th:only-of-type {\n",
       "        vertical-align: middle;\n",
       "    }\n",
       "\n",
       "    .dataframe tbody tr th {\n",
       "        vertical-align: top;\n",
       "    }\n",
       "\n",
       "    .dataframe thead th {\n",
       "        text-align: right;\n",
       "    }\n",
       "</style>\n",
       "<table border=\"1\" class=\"dataframe\">\n",
       "  <thead>\n",
       "    <tr style=\"text-align: right;\">\n",
       "      <th></th>\n",
       "      <th>time</th>\n",
       "      <th>like</th>\n",
       "      <th>where</th>\n",
       "      <th>freq</th>\n",
       "      <th>busy</th>\n",
       "      <th>educ</th>\n",
       "      <th>sex</th>\n",
       "      <th>age</th>\n",
       "      <th>home</th>\n",
       "      <th>math</th>\n",
       "      <th>work</th>\n",
       "      <th>own</th>\n",
       "      <th>cdrom</th>\n",
       "      <th>email</th>\n",
       "      <th>grade</th>\n",
       "    </tr>\n",
       "  </thead>\n",
       "  <tbody>\n",
       "    <tr>\n",
       "      <th>count</th>\n",
       "      <td>91.000000</td>\n",
       "      <td>91.000000</td>\n",
       "      <td>91.000000</td>\n",
       "      <td>91.000000</td>\n",
       "      <td>91.000000</td>\n",
       "      <td>91.000000</td>\n",
       "      <td>91.000000</td>\n",
       "      <td>91.000000</td>\n",
       "      <td>91.000000</td>\n",
       "      <td>91.000000</td>\n",
       "      <td>91.000000</td>\n",
       "      <td>91.000000</td>\n",
       "      <td>91.000000</td>\n",
       "      <td>91.000000</td>\n",
       "      <td>91.000000</td>\n",
       "    </tr>\n",
       "    <tr>\n",
       "      <th>mean</th>\n",
       "      <td>1.242857</td>\n",
       "      <td>4.076923</td>\n",
       "      <td>21.967033</td>\n",
       "      <td>16.461538</td>\n",
       "      <td>12.153846</td>\n",
       "      <td>14.549451</td>\n",
       "      <td>0.582418</td>\n",
       "      <td>19.516484</td>\n",
       "      <td>0.758242</td>\n",
       "      <td>1.406593</td>\n",
       "      <td>10.373626</td>\n",
       "      <td>0.736264</td>\n",
       "      <td>5.604396</td>\n",
       "      <td>0.791209</td>\n",
       "      <td>3.252747</td>\n",
       "    </tr>\n",
       "    <tr>\n",
       "      <th>std</th>\n",
       "      <td>3.777040</td>\n",
       "      <td>10.098659</td>\n",
       "      <td>38.476097</td>\n",
       "      <td>33.896020</td>\n",
       "      <td>32.384126</td>\n",
       "      <td>34.670918</td>\n",
       "      <td>0.495893</td>\n",
       "      <td>1.846093</td>\n",
       "      <td>0.430521</td>\n",
       "      <td>10.354793</td>\n",
       "      <td>19.327958</td>\n",
       "      <td>0.443099</td>\n",
       "      <td>22.647482</td>\n",
       "      <td>0.408697</td>\n",
       "      <td>0.607242</td>\n",
       "    </tr>\n",
       "    <tr>\n",
       "      <th>min</th>\n",
       "      <td>0.000000</td>\n",
       "      <td>1.000000</td>\n",
       "      <td>1.000000</td>\n",
       "      <td>1.000000</td>\n",
       "      <td>0.000000</td>\n",
       "      <td>0.000000</td>\n",
       "      <td>0.000000</td>\n",
       "      <td>18.000000</td>\n",
       "      <td>0.000000</td>\n",
       "      <td>0.000000</td>\n",
       "      <td>0.000000</td>\n",
       "      <td>0.000000</td>\n",
       "      <td>0.000000</td>\n",
       "      <td>0.000000</td>\n",
       "      <td>2.000000</td>\n",
       "    </tr>\n",
       "    <tr>\n",
       "      <th>25%</th>\n",
       "      <td>0.000000</td>\n",
       "      <td>2.000000</td>\n",
       "      <td>3.000000</td>\n",
       "      <td>2.000000</td>\n",
       "      <td>0.000000</td>\n",
       "      <td>0.000000</td>\n",
       "      <td>0.000000</td>\n",
       "      <td>19.000000</td>\n",
       "      <td>1.000000</td>\n",
       "      <td>0.000000</td>\n",
       "      <td>0.000000</td>\n",
       "      <td>0.000000</td>\n",
       "      <td>0.000000</td>\n",
       "      <td>1.000000</td>\n",
       "      <td>3.000000</td>\n",
       "    </tr>\n",
       "    <tr>\n",
       "      <th>50%</th>\n",
       "      <td>0.000000</td>\n",
       "      <td>3.000000</td>\n",
       "      <td>3.000000</td>\n",
       "      <td>3.000000</td>\n",
       "      <td>0.000000</td>\n",
       "      <td>1.000000</td>\n",
       "      <td>1.000000</td>\n",
       "      <td>19.000000</td>\n",
       "      <td>1.000000</td>\n",
       "      <td>0.000000</td>\n",
       "      <td>5.000000</td>\n",
       "      <td>1.000000</td>\n",
       "      <td>0.000000</td>\n",
       "      <td>1.000000</td>\n",
       "      <td>3.000000</td>\n",
       "    </tr>\n",
       "    <tr>\n",
       "      <th>75%</th>\n",
       "      <td>1.250000</td>\n",
       "      <td>3.000000</td>\n",
       "      <td>5.000000</td>\n",
       "      <td>4.000000</td>\n",
       "      <td>1.000000</td>\n",
       "      <td>1.000000</td>\n",
       "      <td>1.000000</td>\n",
       "      <td>20.000000</td>\n",
       "      <td>1.000000</td>\n",
       "      <td>1.000000</td>\n",
       "      <td>14.500000</td>\n",
       "      <td>1.000000</td>\n",
       "      <td>0.000000</td>\n",
       "      <td>1.000000</td>\n",
       "      <td>4.000000</td>\n",
       "    </tr>\n",
       "    <tr>\n",
       "      <th>max</th>\n",
       "      <td>30.000000</td>\n",
       "      <td>99.000000</td>\n",
       "      <td>99.000000</td>\n",
       "      <td>99.000000</td>\n",
       "      <td>99.000000</td>\n",
       "      <td>99.000000</td>\n",
       "      <td>1.000000</td>\n",
       "      <td>33.000000</td>\n",
       "      <td>1.000000</td>\n",
       "      <td>99.000000</td>\n",
       "      <td>99.000000</td>\n",
       "      <td>1.000000</td>\n",
       "      <td>99.000000</td>\n",
       "      <td>1.000000</td>\n",
       "      <td>4.000000</td>\n",
       "    </tr>\n",
       "  </tbody>\n",
       "</table>\n",
       "</div>"
      ],
      "text/plain": [
       "           time        like      where       freq       busy       educ  \\\n",
       "count  91.000000  91.000000  91.000000  91.000000  91.000000  91.000000   \n",
       "mean    1.242857   4.076923  21.967033  16.461538  12.153846  14.549451   \n",
       "std     3.777040  10.098659  38.476097  33.896020  32.384126  34.670918   \n",
       "min     0.000000   1.000000   1.000000   1.000000   0.000000   0.000000   \n",
       "25%     0.000000   2.000000   3.000000   2.000000   0.000000   0.000000   \n",
       "50%     0.000000   3.000000   3.000000   3.000000   0.000000   1.000000   \n",
       "75%     1.250000   3.000000   5.000000   4.000000   1.000000   1.000000   \n",
       "max    30.000000  99.000000  99.000000  99.000000  99.000000  99.000000   \n",
       "\n",
       "             sex        age       home       math       work        own  \\\n",
       "count  91.000000  91.000000  91.000000  91.000000  91.000000  91.000000   \n",
       "mean    0.582418  19.516484   0.758242   1.406593  10.373626   0.736264   \n",
       "std     0.495893   1.846093   0.430521  10.354793  19.327958   0.443099   \n",
       "min     0.000000  18.000000   0.000000   0.000000   0.000000   0.000000   \n",
       "25%     0.000000  19.000000   1.000000   0.000000   0.000000   0.000000   \n",
       "50%     1.000000  19.000000   1.000000   0.000000   5.000000   1.000000   \n",
       "75%     1.000000  20.000000   1.000000   1.000000  14.500000   1.000000   \n",
       "max     1.000000  33.000000   1.000000  99.000000  99.000000   1.000000   \n",
       "\n",
       "           cdrom      email      grade  \n",
       "count  91.000000  91.000000  91.000000  \n",
       "mean    5.604396   0.791209   3.252747  \n",
       "std    22.647482   0.408697   0.607242  \n",
       "min     0.000000   0.000000   2.000000  \n",
       "25%     0.000000   1.000000   3.000000  \n",
       "50%     0.000000   1.000000   3.000000  \n",
       "75%     0.000000   1.000000   4.000000  \n",
       "max    99.000000   1.000000   4.000000  "
      ]
     },
     "execution_count": 119,
     "metadata": {},
     "output_type": "execute_result"
    }
   ],
   "source": [
    "table = pd.read_csv('videodata.csv')\n",
    "table.describe()"
   ]
  },
  {
   "cell_type": "markdown",
   "metadata": {},
   "source": [
    "To estimate whether the students group who filled out the servey like playing video games or not, we can get the stats from the \"like\" column, in which 1=never played, 2=very much, 3=somewhat, 4=not really, 5=not at all.\n",
    "\n",
    "*Note* Here to describe the data, we're not filtering out the data that was filled out by people who do not play video games. Not having the initiative to play computer games in some degree indicates the low level of interest in video games, thus should be included."
   ]
  },
  {
   "cell_type": "code",
   "execution_count": 120,
   "metadata": {},
   "outputs": [
    {
     "data": {
      "text/plain": [
       "count    90.000000\n",
       "mean      3.022222\n",
       "std       0.873811\n",
       "min       1.000000\n",
       "25%       2.000000\n",
       "50%       3.000000\n",
       "75%       3.000000\n",
       "max       5.000000\n",
       "Name: like, dtype: float64"
      ]
     },
     "execution_count": 120,
     "metadata": {},
     "output_type": "execute_result"
    }
   ],
   "source": [
    "table = table[table['like']>0]\n",
    "table = table[table['like']<6]\n",
    "#clean the outlier data\n",
    "like = table['like']\n",
    "like.describe()"
   ]
  },
  {
   "cell_type": "markdown",
   "metadata": {},
   "source": [
    "As a conclusion, we see that the mean is 4, which represents for \"not really\". Thus we can reach to a conclusion that most students in the sample weren't really enjoying playing computer games."
   ]
  },
  {
   "cell_type": "code",
   "execution_count": 121,
   "metadata": {},
   "outputs": [
    {
     "data": {
      "text/plain": [
       "<matplotlib.axes._subplots.AxesSubplot at 0x118a7ce50>"
      ]
     },
     "execution_count": 121,
     "metadata": {},
     "output_type": "execute_result"
    },
    {
     "data": {
      "image/png": "[encoded data removed]",
      "text/plain": [
       "<matplotlib.figure.Figure at 0x118aabe10>"
      ]
     },
     "metadata": {},
     "output_type": "display_data"
    }
   ],
   "source": [
    "like.hist()"
   ]
  },
  {
   "cell_type": "code",
   "execution_count": 122,
   "metadata": {},
   "outputs": [
    {
     "name": "stdout",
     "output_type": "stream",
     "text": [
      "freq     0.526318\n",
      "busy     0.476343\n",
      "educ     0.438547\n",
      "where    0.310757\n",
      "time     0.276465\n",
      "sex      0.262917\n",
      "age      0.145666\n",
      "home     0.103808\n",
      "cdrom    0.103171\n",
      "work     0.098371\n",
      "grade    0.095085\n",
      "email    0.018104\n",
      "own      0.015422\n",
      "math     0.002689\n",
      "Name: like, dtype: float64\n"
     ]
    }
   ],
   "source": [
    "#using pearson correlation calculation\n",
    "corr_table = table.corr().loc['like'].abs().sort_values(ascending=False)[1:]\n",
    "print corr_table"
   ]
  },
  {
   "cell_type": "code",
   "execution_count": 125,
   "metadata": {},
   "outputs": [
    {
     "data": {
      "image/png": "[encoded data removed]",
      "text/plain": [
       "<matplotlib.figure.Figure at 0x118922210>"
      ]
     },
     "metadata": {},
     "output_type": "display_data"
    }
   ],
   "source": [
    "matplotlib.style.use('ggplot')\n",
    "\n",
    "table_freq = table[table['freq']<= 4]\n",
    "plt.scatter(table_freq['freq'],table_freq['like'])\n",
    "plt.show()"
   ]
  },
  {
   "cell_type": "markdown",
   "metadata": {},
   "source": [
    "As an example here we use the variable \"sex\" to investigate in the influence of this variable to how much students enjoy playing computer games. \n",
    "Here sex=1 is male, sex=0 is female.\n",
    "We can easily find out that male students have a greater preferences on choice 2-very much and 3-somewhat than female do, thus showing a gender differences in how much students enjoy playing video games."
   ]
  },
  {
   "cell_type": "code",
   "execution_count": 126,
   "metadata": {},
   "outputs": [
    {
     "name": "stdout",
     "output_type": "stream",
     "text": [
      "like         1         2         3         4         5\n",
      "sex                                                   \n",
      "0     0.000000  0.131579  0.552632  0.210526  0.105263\n",
      "1     0.019231  0.346154  0.480769  0.096154  0.057692\n"
     ]
    }
   ],
   "source": [
    "ct_sex = pd.crosstab(table[\"sex\"],table[\"like\"],normalize=0)\n",
    "print ct_sex"
   ]
  }
 ],
 "metadata": {
  "kernelspec": {
   "display_name": "Python 2",
   "language": "python",
   "name": "python2"
  },
  "language_info": {
   "codemirror_mode": {
    "name": "ipython",
    "version": 2
   },
   "file_extension": ".py",
   "mimetype": "text/x-python",
   "name": "python",
   "nbconvert_exporter": "python",
   "pygments_lexer": "ipython2",
   "version": "2.7.14"
  }
 },
 "nbformat": 4,
 "nbformat_minor": 2
}
