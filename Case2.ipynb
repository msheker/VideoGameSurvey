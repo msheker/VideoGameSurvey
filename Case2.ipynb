{
 "cells": [
  {
   "cell_type": "markdown",
   "metadata": {},
   "source": [
    "### Scenario 2\n",
    "---\n",
    "Read in the Data and get summary stats."
   ]
  },
  {
   "cell_type": "code",
   "execution_count": 305,
   "metadata": {},
   "outputs": [
    {
     "data": {
      "text/html": [
       "<div>\n",
       "<style scoped>\n",
       "    .dataframe tbody tr th:only-of-type {\n",
       "        vertical-align: middle;\n",
       "    }\n",
       "\n",
       "    .dataframe tbody tr th {\n",
       "        vertical-align: top;\n",
       "    }\n",
       "\n",
       "    .dataframe thead th {\n",
       "        text-align: right;\n",
       "    }\n",
       "</style>\n",
       "<table border=\"1\" class=\"dataframe\">\n",
       "  <thead>\n",
       "    <tr style=\"text-align: right;\">\n",
       "      <th></th>\n",
       "      <th>time</th>\n",
       "      <th>like</th>\n",
       "      <th>where</th>\n",
       "      <th>freq</th>\n",
       "      <th>busy</th>\n",
       "      <th>educ</th>\n",
       "      <th>sex</th>\n",
       "      <th>age</th>\n",
       "      <th>home</th>\n",
       "      <th>math</th>\n",
       "      <th>work</th>\n",
       "      <th>own</th>\n",
       "      <th>cdrom</th>\n",
       "      <th>email</th>\n",
       "      <th>grade</th>\n",
       "    </tr>\n",
       "  </thead>\n",
       "  <tbody>\n",
       "    <tr>\n",
       "      <th>count</th>\n",
       "      <td>91.000000</td>\n",
       "      <td>91.000000</td>\n",
       "      <td>91.000000</td>\n",
       "      <td>91.000000</td>\n",
       "      <td>91.000000</td>\n",
       "      <td>91.000000</td>\n",
       "      <td>91.000000</td>\n",
       "      <td>91.000000</td>\n",
       "      <td>91.000000</td>\n",
       "      <td>91.000000</td>\n",
       "      <td>91.000000</td>\n",
       "      <td>91.000000</td>\n",
       "      <td>91.000000</td>\n",
       "      <td>91.000000</td>\n",
       "      <td>91.000000</td>\n",
       "    </tr>\n",
       "    <tr>\n",
       "      <th>mean</th>\n",
       "      <td>1.242857</td>\n",
       "      <td>4.076923</td>\n",
       "      <td>21.967033</td>\n",
       "      <td>16.461538</td>\n",
       "      <td>12.153846</td>\n",
       "      <td>14.549451</td>\n",
       "      <td>0.582418</td>\n",
       "      <td>19.516484</td>\n",
       "      <td>0.758242</td>\n",
       "      <td>1.406593</td>\n",
       "      <td>10.373626</td>\n",
       "      <td>0.736264</td>\n",
       "      <td>5.604396</td>\n",
       "      <td>0.791209</td>\n",
       "      <td>3.252747</td>\n",
       "    </tr>\n",
       "    <tr>\n",
       "      <th>std</th>\n",
       "      <td>3.777040</td>\n",
       "      <td>10.098659</td>\n",
       "      <td>38.476097</td>\n",
       "      <td>33.896020</td>\n",
       "      <td>32.384126</td>\n",
       "      <td>34.670918</td>\n",
       "      <td>0.495893</td>\n",
       "      <td>1.846093</td>\n",
       "      <td>0.430521</td>\n",
       "      <td>10.354793</td>\n",
       "      <td>19.327958</td>\n",
       "      <td>0.443099</td>\n",
       "      <td>22.647482</td>\n",
       "      <td>0.408697</td>\n",
       "      <td>0.607242</td>\n",
       "    </tr>\n",
       "    <tr>\n",
       "      <th>min</th>\n",
       "      <td>0.000000</td>\n",
       "      <td>1.000000</td>\n",
       "      <td>1.000000</td>\n",
       "      <td>1.000000</td>\n",
       "      <td>0.000000</td>\n",
       "      <td>0.000000</td>\n",
       "      <td>0.000000</td>\n",
       "      <td>18.000000</td>\n",
       "      <td>0.000000</td>\n",
       "      <td>0.000000</td>\n",
       "      <td>0.000000</td>\n",
       "      <td>0.000000</td>\n",
       "      <td>0.000000</td>\n",
       "      <td>0.000000</td>\n",
       "      <td>2.000000</td>\n",
       "    </tr>\n",
       "    <tr>\n",
       "      <th>25%</th>\n",
       "      <td>0.000000</td>\n",
       "      <td>2.000000</td>\n",
       "      <td>3.000000</td>\n",
       "      <td>2.000000</td>\n",
       "      <td>0.000000</td>\n",
       "      <td>0.000000</td>\n",
       "      <td>0.000000</td>\n",
       "      <td>19.000000</td>\n",
       "      <td>1.000000</td>\n",
       "      <td>0.000000</td>\n",
       "      <td>0.000000</td>\n",
       "      <td>0.000000</td>\n",
       "      <td>0.000000</td>\n",
       "      <td>1.000000</td>\n",
       "      <td>3.000000</td>\n",
       "    </tr>\n",
       "    <tr>\n",
       "      <th>50%</th>\n",
       "      <td>0.000000</td>\n",
       "      <td>3.000000</td>\n",
       "      <td>3.000000</td>\n",
       "      <td>3.000000</td>\n",
       "      <td>0.000000</td>\n",
       "      <td>1.000000</td>\n",
       "      <td>1.000000</td>\n",
       "      <td>19.000000</td>\n",
       "      <td>1.000000</td>\n",
       "      <td>0.000000</td>\n",
       "      <td>5.000000</td>\n",
       "      <td>1.000000</td>\n",
       "      <td>0.000000</td>\n",
       "      <td>1.000000</td>\n",
       "      <td>3.000000</td>\n",
       "    </tr>\n",
       "    <tr>\n",
       "      <th>75%</th>\n",
       "      <td>1.250000</td>\n",
       "      <td>3.000000</td>\n",
       "      <td>5.000000</td>\n",
       "      <td>4.000000</td>\n",
       "      <td>1.000000</td>\n",
       "      <td>1.000000</td>\n",
       "      <td>1.000000</td>\n",
       "      <td>20.000000</td>\n",
       "      <td>1.000000</td>\n",
       "      <td>1.000000</td>\n",
       "      <td>14.500000</td>\n",
       "      <td>1.000000</td>\n",
       "      <td>0.000000</td>\n",
       "      <td>1.000000</td>\n",
       "      <td>4.000000</td>\n",
       "    </tr>\n",
       "    <tr>\n",
       "      <th>max</th>\n",
       "      <td>30.000000</td>\n",
       "      <td>99.000000</td>\n",
       "      <td>99.000000</td>\n",
       "      <td>99.000000</td>\n",
       "      <td>99.000000</td>\n",
       "      <td>99.000000</td>\n",
       "      <td>1.000000</td>\n",
       "      <td>33.000000</td>\n",
       "      <td>1.000000</td>\n",
       "      <td>99.000000</td>\n",
       "      <td>99.000000</td>\n",
       "      <td>1.000000</td>\n",
       "      <td>99.000000</td>\n",
       "      <td>1.000000</td>\n",
       "      <td>4.000000</td>\n",
       "    </tr>\n",
       "  </tbody>\n",
       "</table>\n",
       "</div>"
      ],
      "text/plain": [
       "            time       like      where       freq       busy       educ  \\\n",
       "count  91.000000  91.000000  91.000000  91.000000  91.000000  91.000000   \n",
       "mean    1.242857   4.076923  21.967033  16.461538  12.153846  14.549451   \n",
       "std     3.777040  10.098659  38.476097  33.896020  32.384126  34.670918   \n",
       "min     0.000000   1.000000   1.000000   1.000000   0.000000   0.000000   \n",
       "25%     0.000000   2.000000   3.000000   2.000000   0.000000   0.000000   \n",
       "50%     0.000000   3.000000   3.000000   3.000000   0.000000   1.000000   \n",
       "75%     1.250000   3.000000   5.000000   4.000000   1.000000   1.000000   \n",
       "max    30.000000  99.000000  99.000000  99.000000  99.000000  99.000000   \n",
       "\n",
       "             sex        age       home       math       work        own  \\\n",
       "count  91.000000  91.000000  91.000000  91.000000  91.000000  91.000000   \n",
       "mean    0.582418  19.516484   0.758242   1.406593  10.373626   0.736264   \n",
       "std     0.495893   1.846093   0.430521  10.354793  19.327958   0.443099   \n",
       "min     0.000000  18.000000   0.000000   0.000000   0.000000   0.000000   \n",
       "25%     0.000000  19.000000   1.000000   0.000000   0.000000   0.000000   \n",
       "50%     1.000000  19.000000   1.000000   0.000000   5.000000   1.000000   \n",
       "75%     1.000000  20.000000   1.000000   1.000000  14.500000   1.000000   \n",
       "max     1.000000  33.000000   1.000000  99.000000  99.000000   1.000000   \n",
       "\n",
       "           cdrom      email      grade  \n",
       "count  91.000000  91.000000  91.000000  \n",
       "mean    5.604396   0.791209   3.252747  \n",
       "std    22.647482   0.408697   0.607242  \n",
       "min     0.000000   0.000000   2.000000  \n",
       "25%     0.000000   1.000000   3.000000  \n",
       "50%     0.000000   1.000000   3.000000  \n",
       "75%     0.000000   1.000000   4.000000  \n",
       "max    99.000000   1.000000   4.000000  "
      ]
     },
     "execution_count": 305,
     "metadata": {},
     "output_type": "execute_result"
    }
   ],
   "source": [
    "from datascience import *\n",
    "import matplotlib.pyplot as plt\n",
    "import numpy as np\n",
    "import pandas as pd\n",
    "from scipy.stats import *\n",
    "%matplotlib inline\n",
    "\n",
    "# data\n",
    "data = Table.read_table('videodata.csv')\n",
    "data_df = data.to_df()\n",
    "data_df.describe()"
   ]
  },
  {
   "cell_type": "markdown",
   "metadata": {},
   "source": [
    "Histogram for time played variable"
   ]
  },
  {
   "cell_type": "code",
   "execution_count": 262,
   "metadata": {},
   "outputs": [
    {
     "data": {
      "text/plain": [
       "Text(0.5,1,'Distribution of Hours Played Week Before Survey')"
      ]
     },
     "execution_count": 262,
     "metadata": {},
     "output_type": "execute_result"
    },
    {
     "data": {
      "image/png": "[encoded data removed]",
      "text/plain": [
       "<matplotlib.figure.Figure at 0x1a24023e10>"
      ]
     },
     "metadata": {},
     "output_type": "display_data"
    }
   ],
   "source": [
    "# plot histogram\n",
    "plt.hist(data_df['time'], color='black')\n",
    "\n",
    "# set axis and title\n",
    "labels=['n = 91 students']\n",
    "plt.legend(labels)\n",
    "plt.xlabel('Hours Played')\n",
    "plt.ylabel('Frequency')\n",
    "plt.title('Distribution of Hours Played Week Before Survey')"
   ]
  },
  {
   "cell_type": "markdown",
   "metadata": {},
   "source": [
    "Now we want to look at the distribution for each different type of player. Students responded to the frequency question by listing how often they play:\n",
    "1. Daily (coded as 1)\n",
    "2. Weekly (coded as 2)\n",
    "3. Monthly (coded as 3)\n",
    "4. Semesterly (coded as 4)\n",
    "\n",
    "If a question was not answered or improperly answered, then it was coded as 99. We cleaned the frequency variable for these responses"
   ]
  },
  {
   "cell_type": "code",
   "execution_count": 283,
   "metadata": {
    "collapsed": true
   },
   "outputs": [],
   "source": [
    "# Since we are working with frequency and time variables, clean variables for responses 99\n",
    "cleaned_data_df = data_df[(data_df['time'] != 99) & (data_df['freq'] != 99)]\n",
    "data_df_freq1 = cleaned_data_df[cleaned_data_df['freq'] == 1]\n",
    "data_df_freq2 = cleaned_data_df[cleaned_data_df['freq'] == 2]\n",
    "data_df_freq3 = cleaned_data_df[cleaned_data_df['freq'] == 3]\n",
    "data_df_freq4 = cleaned_data_df[cleaned_data_df['freq'] == 4]"
   ]
  },
  {
   "cell_type": "markdown",
   "metadata": {},
   "source": [
    "#### Daily Players"
   ]
  },
  {
   "cell_type": "code",
   "execution_count": 284,
   "metadata": {},
   "outputs": [
    {
     "data": {
      "text/plain": [
       "Text(0.5,1,'Distribution of Hours Played Week Before Survey (Daily Players)')"
      ]
     },
     "execution_count": 284,
     "metadata": {},
     "output_type": "execute_result"
    },
    {
     "data": {
      "image/png": "[encoded data removed]",
      "text/plain": [
       "<matplotlib.figure.Figure at 0x1a1b2a71d0>"
      ]
     },
     "metadata": {},
     "output_type": "display_data"
    }
   ],
   "source": [
    "plt.hist(data_df_freq1['time'], range=[0,30], color='blue')\n",
    "labels=['n = 9 students']\n",
    "plt.legend(labels)\n",
    "plt.xlabel('Hours Played')\n",
    "plt.ylabel('Frequency')\n",
    "plt.title('Distribution of Hours Played Week Before Survey (Daily Players)')"
   ]
  },
  {
   "cell_type": "markdown",
   "metadata": {},
   "source": [
    "#### Weekly Players"
   ]
  },
  {
   "cell_type": "code",
   "execution_count": 288,
   "metadata": {},
   "outputs": [
    {
     "data": {
      "text/plain": [
       "Text(0.5,1,'Distribution of Hours Played Week Before Survey (Weekly Players)')"
      ]
     },
     "execution_count": 288,
     "metadata": {},
     "output_type": "execute_result"
    },
    {
     "data": {
      "image/png": "[encoded data removed]",
      "text/plain": [
       "<matplotlib.figure.Figure at 0x1a1b288240>"
      ]
     },
     "metadata": {},
     "output_type": "display_data"
    }
   ],
   "source": [
    "plt.hist(data_df_freq2['time'], range=[0,30], color='Orange')\n",
    "labels=['n = 28 students']\n",
    "plt.legend(labels)\n",
    "plt.xlabel('Hours Played')\n",
    "plt.ylabel('Frequency')\n",
    "plt.title('Distribution of Hours Played Week Before Survey (Weekly Players)')"
   ]
  },
  {
   "cell_type": "markdown",
   "metadata": {},
   "source": [
    "#### Monthly Players"
   ]
  },
  {
   "cell_type": "code",
   "execution_count": 277,
   "metadata": {},
   "outputs": [
    {
     "data": {
      "text/plain": [
       "Text(0.5,1,'Distribution of Hours Played Week Before Survey (Monthly Players)')"
      ]
     },
     "execution_count": 277,
     "metadata": {},
     "output_type": "execute_result"
    },
    {
     "data": {
      "image/png": "[encoded data removed]",
      "text/plain": [
       "<matplotlib.figure.Figure at 0x1a24bc2320>"
      ]
     },
     "metadata": {},
     "output_type": "display_data"
    }
   ],
   "source": [
    "plt.hist(data_df_freq3['time'], range=[0,30], color='red')\n",
    "labels=['n = 18 students']\n",
    "plt.legend(labels)\n",
    "plt.xlabel('Hours Played')\n",
    "plt.ylabel('Frequency')\n",
    "plt.title('Distribution of Hours Played Week Before Survey (Monthly Players)')"
   ]
  },
  {
   "cell_type": "markdown",
   "metadata": {},
   "source": [
    "#### Semesterly Players"
   ]
  },
  {
   "cell_type": "code",
   "execution_count": 280,
   "metadata": {},
   "outputs": [
    {
     "data": {
      "text/plain": [
       "Text(0.5,1,'Distribution of Hours Played Week Before Survey (Semesterly Players)')"
      ]
     },
     "execution_count": 280,
     "metadata": {},
     "output_type": "execute_result"
    },
    {
     "data": {
      "image/png": "[encoded data removed]",
      "text/plain": [
       "<matplotlib.figure.Figure at 0x1a240aeb38>"
      ]
     },
     "metadata": {},
     "output_type": "display_data"
    }
   ],
   "source": [
    "plt.hist(data_df_freq4['time'], range=[0,30], color='green')\n",
    "labels=['n = 23 students']\n",
    "plt.legend(labels)\n",
    "plt.xlabel('Hours Played')\n",
    "plt.ylabel('Frequency')\n",
    "plt.title('Distribution of Hours Played Week Before Survey (Semesterly Players)')"
   ]
  },
  {
   "cell_type": "markdown",
   "metadata": {},
   "source": [
    "We see from the histograms as the frequency a player states they play goes up, hours played a week before the survey are recorded as being higher.\n",
    "\n",
    "\n",
    "We can now look at the distributions overlayed"
   ]
  },
  {
   "cell_type": "code",
   "execution_count": 255,
   "metadata": {},
   "outputs": [
    {
     "data": {
      "text/plain": [
       "Text(0.5,1,'Distribution of Monthly & Semesterly Players')"
      ]
     },
     "execution_count": 255,
     "metadata": {},
     "output_type": "execute_result"
    },
    {
     "data": {
      "image/png": "[encoded data removed]",
      "text/plain": [
       "<matplotlib.figure.Figure at 0x1a23851160>"
      ]
     },
     "metadata": {},
     "output_type": "display_data"
    }
   ],
   "source": [
    "# create data bins to overlay plots on\n",
    "bins = np.linspace(0, 30, 50)\n",
    "bins2 = np.linspace(0, 30, 50)\n",
    "\n",
    "# 1. distribution of time played before survey for players who responded they play frequently\n",
    "# histograms\n",
    "plt.hist(data_df_freq1['time'], bins, alpha=1, label='daily')\n",
    "plt.hist(data_df_freq2['time'], bins, alpha=0.3, label='weekly')\n",
    "\n",
    "# edit the legend, axis and title\n",
    "plt.legend(loc='upper right')\n",
    "plt.xlabel('Hours Played Week Before Survey')\n",
    "plt.ylabel('Frequency')\n",
    "plt.title('Distribution of Daily & Weekly Players')\n",
    "\n",
    "# 2. distribution of time played before survey for players who responded they play less frequently\n",
    "# histograms\n",
    "plt.hist(data_df_freq3['time'], bins, alpha=0.9, label='monthly', color='red')\n",
    "plt.hist(data_df_freq4['time'], bins, alpha=0.3, label='semesterly', color='green')\n",
    "\n",
    "# edit the legend, axis and title\n",
    "plt.legend(loc='upper right')\n",
    "plt.xlabel('Hours Played Week Before Survey')\n",
    "plt.ylabel('Frequency')\n",
    "plt.title('Distribution of Monthly & Semesterly Players')"
   ]
  },
  {
   "cell_type": "markdown",
   "metadata": {},
   "source": [
    "Split now between daily/ weekly and monthly/ semesterly to get a better visual"
   ]
  },
  {
   "cell_type": "code",
   "execution_count": 257,
   "metadata": {},
   "outputs": [
    {
     "name": "stderr",
     "output_type": "stream",
     "text": [
      "/anaconda3/lib/python3.6/site-packages/numpy/core/fromnumeric.py:57: FutureWarning: reshape is deprecated and will raise in a subsequent release. Please use .values.reshape(...) instead\n",
      "  return getattr(obj, method)(*args, **kwds)\n"
     ]
    },
    {
     "data": {
      "text/plain": [
       "Text(0.5,1,'Distribution of Daily & Weekly Players')"
      ]
     },
     "execution_count": 257,
     "metadata": {},
     "output_type": "execute_result"
    },
    {
     "data": {
      "image/png": "[encoded data removed]",
      "text/plain": [
       "<matplotlib.figure.Figure at 0x1a22a4ea20>"
      ]
     },
     "metadata": {},
     "output_type": "display_data"
    }
   ],
   "source": [
    "# another way (avoids overlaying bars)\n",
    "plt.hist([data_df_freq1['time'], data_df_freq2['time']], label=['daily','weekly'], bins=30)\n",
    "plt.legend(loc='upper right')\n",
    "plt.xlabel('Hours Played Week Before Survey')\n",
    "plt.ylabel('Frequency')\n",
    "plt.title('Distribution of Daily & Weekly Players')"
   ]
  },
  {
   "cell_type": "code",
   "execution_count": 256,
   "metadata": {},
   "outputs": [
    {
     "name": "stderr",
     "output_type": "stream",
     "text": [
      "/anaconda3/lib/python3.6/site-packages/numpy/core/fromnumeric.py:57: FutureWarning: reshape is deprecated and will raise in a subsequent release. Please use .values.reshape(...) instead\n",
      "  return getattr(obj, method)(*args, **kwds)\n"
     ]
    },
    {
     "data": {
      "text/plain": [
       "Text(0.5,1,'Distribution of Monthly & Semesterly Players')"
      ]
     },
     "execution_count": 256,
     "metadata": {},
     "output_type": "execute_result"
    },
    {
     "data": {
      "image/png": "[encoded data removed]",
      "text/plain": [
       "<matplotlib.figure.Figure at 0x1a2268cba8>"
      ]
     },
     "metadata": {},
     "output_type": "display_data"
    }
   ],
   "source": [
    "plt.hist([data_df_freq3['time'], data_df_freq4['time']], range=[0, 30], label=['monthly','semesterly'], bins=30, color=['red', 'green'])\n",
    "plt.legend(loc='upper right')\n",
    "plt.xlabel('Hours Played Week Before Survey')\n",
    "plt.ylabel('Frequency')\n",
    "plt.title('Distribution of Monthly & Semesterly Players')"
   ]
  }
 ],
 "metadata": {
  "kernelspec": {
   "display_name": "Python 3",
   "language": "python",
   "name": "python3"
  },
  "language_info": {
   "codemirror_mode": {
    "name": "ipython",
    "version": 3
   },
   "file_extension": ".py",
   "mimetype": "text/x-python",
   "name": "python",
   "nbconvert_exporter": "python",
   "pygments_lexer": "ipython3",
   "version": "3.6.3"
  }
 },
 "nbformat": 4,
 "nbformat_minor": 2
}
