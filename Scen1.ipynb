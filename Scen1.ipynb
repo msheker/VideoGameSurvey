{
 "cells": [
  {
   "cell_type": "code",
   "execution_count": 58,
   "metadata": {
    "collapsed": false
   },
   "outputs": [],
   "source": [
    "#[Scenario 1:] Begin by providing an estimate for the fraction of students who played a\n",
    "#   video game in the week prior to the survey. Provide an interval estimate as well as a\n",
    "#   point estimate for this proportion.\n",
    "\n",
    "import pandas as pd\n",
    "import numpy as np\n",
    "import matplotlib.pyplot as plt\n",
    "\n",
    "from bokeh.plotting import figure, show, output_file\n",
    "from bokeh.layouts import gridplot\n",
    "from scipy import stats\n",
    "\n",
    "data_all = pd.read_csv(\"videodata.csv\")"
   ]
  },
  {
   "cell_type": "code",
   "execution_count": 72,
   "metadata": {
    "collapsed": false
   },
   "outputs": [
    {
     "name": "stdout",
     "output_type": "stream",
     "text": [
      "0.373626373626\n"
     ]
    }
   ],
   "source": [
    "data = data_all\n",
    "data = data[data[\"time\"] < 99]\n",
    "\n",
    "#replace time spent playing with a boolean\n",
    "ls = []\n",
    "time = data[\"time\"]\n",
    "for i in range(len(time)):\n",
    "  \n",
    "    if(time[i] != 0):\n",
    "        ls.append(1)\n",
    "    else:\n",
    "        ls.append(0)\n",
    "\n",
    "data[\"time\"] = ls       \n",
    "\n",
    "#mean calculation\n",
    "s = 0\n",
    "time = data[\"time\"]\n",
    "for i in range(len(time)):\n",
    "    s = s + time[i]\n",
    "    \n",
    "s = s/len(time)\n",
    "print(s)"
   ]
  },
  {
   "cell_type": "code",
   "execution_count": 74,
   "metadata": {
    "collapsed": false
   },
   "outputs": [
    {
     "data": {
      "text/plain": [
       "(0.28939809634670244, 0.45785465090604482)"
      ]
     },
     "execution_count": 74,
     "metadata": {},
     "output_type": "execute_result"
    }
   ],
   "source": [
    "s_form = 1.96 * np.sqrt(s*(1-s)*(314 - 91)/(314 * (91 - 1)))\n",
    "\n",
    "#front interval calculation\n",
    "s1 = s - s_form\n",
    "\n",
    "#end interval calculation\n",
    "s2 = s + s_form\n",
    "\n",
    "(s1,s2)"
   ]
  },
  {
   "cell_type": "code",
   "execution_count": 60,
   "metadata": {
    "collapsed": false
   },
   "outputs": [
    {
     "name": "stdout",
     "output_type": "stream",
     "text": [
      "Mean(statistic=0.37362637362637363, minmax=(0.2888772746615681, 0.45837547259117911))\n",
      "Std_dev(statistic=0.49054752574187188, minmax=(0.43384838822202354, 0.55505418451307742))\n"
     ]
    }
   ],
   "source": [
    "mean, var, std = stats.bayes_mvs(data[\"time\"])\n",
    "print(mean)\n",
    "print(std)"
   ]
  },
  {
   "cell_type": "code",
   "execution_count": 52,
   "metadata": {
    "collapsed": false
   },
   "outputs": [],
   "source": [
    "p = data[\"time\"].plot(kind = \"hist\")\n",
    "\n",
    "plt.title(\"Students Who Played Video Games in the Past Week\", size = 20)\n",
    "plt.xticks( np.arange(-.5, 2, .5), ('','No', '' ,'Yes'), size = 20)\n",
    "plt.ylabel( \"Frequency\", size = 20)\n",
    "plt.yticks(size = 15)\n",
    "plt.show(p)"
   ]
  }
 ],
 "metadata": {
  "anaconda-cloud": {},
  "kernelspec": {
   "display_name": "Python [Root]",
   "language": "python",
   "name": "Python [Root]"
  },
  "language_info": {
   "codemirror_mode": {
    "name": "ipython",
    "version": 3
   },
   "file_extension": ".py",
   "mimetype": "text/x-python",
   "name": "python",
   "nbconvert_exporter": "python",
   "pygments_lexer": "ipython3",
   "version": "3.5.2"
  }
 },
 "nbformat": 4,
 "nbformat_minor": 0
}
